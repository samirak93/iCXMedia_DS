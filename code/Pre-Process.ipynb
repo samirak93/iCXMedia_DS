{
 "cells": [
  {
   "cell_type": "markdown",
   "metadata": {},
   "source": [
    "From Clustering to Classification:\n",
    "\n",
    "Oftentimes we receive a data set that is not yet suited for supervised machine learning because it lacks the necessary target. In these cases, we can sometimes use clustering to extrapolate categories and then use the cluster labels for downstream classification. For this challenge, we'd like to see how you do at this kind of task.\n",
    "Create a fresh Python project (either .py or .ipynb) that does the following:\n",
    "\n",
    "•\t Downloads a clustering data set from the UCI Machine Learning Repository.\n",
    "\n",
    "•\t Performs clustering on the data. Note: **Please include an explanation of why you selected that particular clustering algorithm for this problem.**\n",
    "\n",
    "•\t **Plots the clusters and provides a textual interpretation of the results.**\n",
    "\n",
    "•\t Transforms the cluster labels into target variables for classification.\n",
    "\n",
    "•\t Performs classification on the data using the new categorical target values. **Note: please include an explanation of why you selected that particular classification algorithm.**\n",
    "\n",
    "•\t **Evaluates the performance of the classifier and provides some textual interpretation.**\n",
    "\n",
    "•\t **Includes a sketched-out diagram (e.g. using Google draw or on paper/whiteboard) of a pipeline that integrates the above steps so that the model could be rebuilt on demand (e.g. in a production environment).**\n",
    "\n",
    "Save your file(s), upload them to a Github repository, and send us the link!"
   ]
  },
  {
   "cell_type": "markdown",
   "metadata": {},
   "source": [
    "### MY TASK\n",
    "\n",
    "This dataset contains 206 attributes of 70 children with physical and motor disability based on ICF-CY.\n",
    "In particular, the SCADI dataset is the only one that has been used by ML researchers for self-care problems classification based on ICF-CY to this date.\n",
    "The 'Class' field refers to the presence of the self-care problems of the children with physical and motor disabilities.The classes are determined by occupational therapists.\n",
    "\n",
    "\n",
    "Attribute Information:\n",
    "\n",
    "1: gender: gender (1 = male; 0 = female)\n",
    "\n",
    "2: age: age in years\n",
    "\n",
    "3-205: self-care activities based on ICF-CY (1 = The case has this feature; 0 = otherwise)\n",
    "\n",
    "206: Classes ( class1 = Caring for body parts problem; class2 = Toileting problem; class3 = Dressing problem; class4 = Washing oneself and Caring for body parts and Dressing problem; class5 = Washing oneself, Caring for body parts, Toileting, and Dressing problem; class6 = Eating, Drinking, Washing oneself, Caring for body parts, toileting,Dressing, Looking after one's health and Looking after one's safety problem; class7 = No Problem; )\n",
    "\n"
   ]
  },
  {
   "cell_type": "code",
   "execution_count": 133,
   "metadata": {},
   "outputs": [],
   "source": [
    "import pandas as pd\n",
    "import numpy as np\n",
    "\n",
    "import matplotlib.pyplot as plt\n",
    "import seaborn as sns\n",
    "\n",
    "from yellowbrick.cluster import InterclusterDistance, KElbowVisualizer, SilhouetteVisualizer\n",
    "from yellowbrick.classifier import ClassificationReport, ROCAUC, ClassBalance,  ConfusionMatrix\n",
    "\n",
    "from sklearn.decomposition import PCA,TruncatedSVD\n",
    "from sklearn.manifold import TSNE\n",
    "from sklearn.cluster import KMeans,AgglomerativeClustering\n",
    "from sklearn.model_selection import train_test_split\n",
    "from sklearn.ensemble import RandomForestClassifier\n",
    "from sklearn import metrics\n",
    "\n",
    "import warnings\n",
    "warnings.filterwarnings('ignore')\n",
    "\n",
    "from scipy.spatial.distance import squareform, pdist\n",
    "from scipy.cluster.hierarchy import dendrogram, single, complete, average,fcluster, weighted, centroid, median, ward, cophenet\n",
    "\n",
    "import scipy.cluster.hierarchy as shc"
   ]
  },
  {
   "cell_type": "code",
   "execution_count": 275,
   "metadata": {},
   "outputs": [
    {
     "data": {
      "text/html": [
       "<div>\n",
       "<style scoped>\n",
       "    .dataframe tbody tr th:only-of-type {\n",
       "        vertical-align: middle;\n",
       "    }\n",
       "\n",
       "    .dataframe tbody tr th {\n",
       "        vertical-align: top;\n",
       "    }\n",
       "\n",
       "    .dataframe thead th {\n",
       "        text-align: right;\n",
       "    }\n",
       "</style>\n",
       "<table border=\"1\" class=\"dataframe\">\n",
       "  <thead>\n",
       "    <tr style=\"text-align: right;\">\n",
       "      <th></th>\n",
       "      <th>Gender</th>\n",
       "      <th>Age</th>\n",
       "      <th>d 5100-0</th>\n",
       "      <th>d 5100-1</th>\n",
       "      <th>d 5100-2</th>\n",
       "      <th>d 5100-3</th>\n",
       "      <th>d 5100-4</th>\n",
       "      <th>d 5100-8</th>\n",
       "      <th>d 5100-9</th>\n",
       "      <th>d 5101-0</th>\n",
       "      <th>...</th>\n",
       "      <th>d 57022-8</th>\n",
       "      <th>d 57022-9</th>\n",
       "      <th>d 571-0</th>\n",
       "      <th>d 571-1</th>\n",
       "      <th>d 571-2</th>\n",
       "      <th>d 571-3</th>\n",
       "      <th>d 571-4</th>\n",
       "      <th>d 571-8</th>\n",
       "      <th>d 571-9</th>\n",
       "      <th>Classes</th>\n",
       "    </tr>\n",
       "  </thead>\n",
       "  <tbody>\n",
       "    <tr>\n",
       "      <td>0</td>\n",
       "      <td>0</td>\n",
       "      <td>18</td>\n",
       "      <td>0</td>\n",
       "      <td>0</td>\n",
       "      <td>0</td>\n",
       "      <td>0</td>\n",
       "      <td>1</td>\n",
       "      <td>0</td>\n",
       "      <td>0</td>\n",
       "      <td>0</td>\n",
       "      <td>...</td>\n",
       "      <td>0</td>\n",
       "      <td>0</td>\n",
       "      <td>0</td>\n",
       "      <td>0</td>\n",
       "      <td>0</td>\n",
       "      <td>0</td>\n",
       "      <td>1</td>\n",
       "      <td>0</td>\n",
       "      <td>0</td>\n",
       "      <td>class6</td>\n",
       "    </tr>\n",
       "    <tr>\n",
       "      <td>1</td>\n",
       "      <td>0</td>\n",
       "      <td>22</td>\n",
       "      <td>0</td>\n",
       "      <td>0</td>\n",
       "      <td>0</td>\n",
       "      <td>0</td>\n",
       "      <td>1</td>\n",
       "      <td>0</td>\n",
       "      <td>0</td>\n",
       "      <td>0</td>\n",
       "      <td>...</td>\n",
       "      <td>0</td>\n",
       "      <td>0</td>\n",
       "      <td>0</td>\n",
       "      <td>0</td>\n",
       "      <td>0</td>\n",
       "      <td>1</td>\n",
       "      <td>0</td>\n",
       "      <td>0</td>\n",
       "      <td>0</td>\n",
       "      <td>class6</td>\n",
       "    </tr>\n",
       "    <tr>\n",
       "      <td>2</td>\n",
       "      <td>0</td>\n",
       "      <td>18</td>\n",
       "      <td>0</td>\n",
       "      <td>0</td>\n",
       "      <td>0</td>\n",
       "      <td>1</td>\n",
       "      <td>0</td>\n",
       "      <td>0</td>\n",
       "      <td>0</td>\n",
       "      <td>0</td>\n",
       "      <td>...</td>\n",
       "      <td>0</td>\n",
       "      <td>0</td>\n",
       "      <td>0</td>\n",
       "      <td>0</td>\n",
       "      <td>0</td>\n",
       "      <td>1</td>\n",
       "      <td>0</td>\n",
       "      <td>0</td>\n",
       "      <td>0</td>\n",
       "      <td>class6</td>\n",
       "    </tr>\n",
       "    <tr>\n",
       "      <td>3</td>\n",
       "      <td>1</td>\n",
       "      <td>18</td>\n",
       "      <td>0</td>\n",
       "      <td>0</td>\n",
       "      <td>0</td>\n",
       "      <td>0</td>\n",
       "      <td>1</td>\n",
       "      <td>0</td>\n",
       "      <td>0</td>\n",
       "      <td>0</td>\n",
       "      <td>...</td>\n",
       "      <td>0</td>\n",
       "      <td>0</td>\n",
       "      <td>0</td>\n",
       "      <td>0</td>\n",
       "      <td>1</td>\n",
       "      <td>0</td>\n",
       "      <td>0</td>\n",
       "      <td>0</td>\n",
       "      <td>0</td>\n",
       "      <td>class6</td>\n",
       "    </tr>\n",
       "    <tr>\n",
       "      <td>4</td>\n",
       "      <td>0</td>\n",
       "      <td>19</td>\n",
       "      <td>0</td>\n",
       "      <td>0</td>\n",
       "      <td>0</td>\n",
       "      <td>0</td>\n",
       "      <td>1</td>\n",
       "      <td>0</td>\n",
       "      <td>0</td>\n",
       "      <td>0</td>\n",
       "      <td>...</td>\n",
       "      <td>0</td>\n",
       "      <td>0</td>\n",
       "      <td>0</td>\n",
       "      <td>0</td>\n",
       "      <td>1</td>\n",
       "      <td>0</td>\n",
       "      <td>0</td>\n",
       "      <td>0</td>\n",
       "      <td>0</td>\n",
       "      <td>class6</td>\n",
       "    </tr>\n",
       "  </tbody>\n",
       "</table>\n",
       "<p>5 rows × 206 columns</p>\n",
       "</div>"
      ],
      "text/plain": [
       "   Gender  Age  d 5100-0  d 5100-1  d 5100-2  d 5100-3  d 5100-4  d 5100-8  \\\n",
       "0       0   18         0         0         0         0         1         0   \n",
       "1       0   22         0         0         0         0         1         0   \n",
       "2       0   18         0         0         0         1         0         0   \n",
       "3       1   18         0         0         0         0         1         0   \n",
       "4       0   19         0         0         0         0         1         0   \n",
       "\n",
       "   d 5100-9  d 5101-0  ...  d 57022-8  d 57022-9  d 571-0  d 571-1  d 571-2  \\\n",
       "0         0         0  ...          0          0        0        0        0   \n",
       "1         0         0  ...          0          0        0        0        0   \n",
       "2         0         0  ...          0          0        0        0        0   \n",
       "3         0         0  ...          0          0        0        0        1   \n",
       "4         0         0  ...          0          0        0        0        1   \n",
       "\n",
       "   d 571-3  d 571-4  d 571-8  d 571-9  Classes  \n",
       "0        0        1        0        0   class6  \n",
       "1        1        0        0        0   class6  \n",
       "2        1        0        0        0   class6  \n",
       "3        0        0        0        0   class6  \n",
       "4        0        0        0        0   class6  \n",
       "\n",
       "[5 rows x 206 columns]"
      ]
     },
     "execution_count": 275,
     "metadata": {},
     "output_type": "execute_result"
    }
   ],
   "source": [
    "df = pd.read_csv(\"../data/SCADI.csv\")\n",
    "df.head()"
   ]
  },
  {
   "cell_type": "code",
   "execution_count": 276,
   "metadata": {},
   "outputs": [
    {
     "data": {
      "text/html": [
       "<div>\n",
       "<style scoped>\n",
       "    .dataframe tbody tr th:only-of-type {\n",
       "        vertical-align: middle;\n",
       "    }\n",
       "\n",
       "    .dataframe tbody tr th {\n",
       "        vertical-align: top;\n",
       "    }\n",
       "\n",
       "    .dataframe thead th {\n",
       "        text-align: right;\n",
       "    }\n",
       "</style>\n",
       "<table border=\"1\" class=\"dataframe\">\n",
       "  <thead>\n",
       "    <tr style=\"text-align: right;\">\n",
       "      <th></th>\n",
       "      <th>Gender</th>\n",
       "      <th>Age</th>\n",
       "      <th>d 5100-0</th>\n",
       "      <th>d 5100-1</th>\n",
       "      <th>d 5100-2</th>\n",
       "      <th>d 5100-3</th>\n",
       "      <th>d 5100-4</th>\n",
       "      <th>d 5100-8</th>\n",
       "      <th>d 5100-9</th>\n",
       "      <th>d 5101-0</th>\n",
       "      <th>...</th>\n",
       "      <th>d 57022-8</th>\n",
       "      <th>d 57022-9</th>\n",
       "      <th>d 571-0</th>\n",
       "      <th>d 571-1</th>\n",
       "      <th>d 571-2</th>\n",
       "      <th>d 571-3</th>\n",
       "      <th>d 571-4</th>\n",
       "      <th>d 571-8</th>\n",
       "      <th>d 571-9</th>\n",
       "      <th>Classes</th>\n",
       "    </tr>\n",
       "  </thead>\n",
       "  <tbody>\n",
       "    <tr>\n",
       "      <td>0</td>\n",
       "      <td>0</td>\n",
       "      <td>18</td>\n",
       "      <td>0</td>\n",
       "      <td>0</td>\n",
       "      <td>0</td>\n",
       "      <td>0</td>\n",
       "      <td>1</td>\n",
       "      <td>0</td>\n",
       "      <td>0</td>\n",
       "      <td>0</td>\n",
       "      <td>...</td>\n",
       "      <td>0</td>\n",
       "      <td>0</td>\n",
       "      <td>0</td>\n",
       "      <td>0</td>\n",
       "      <td>0</td>\n",
       "      <td>0</td>\n",
       "      <td>1</td>\n",
       "      <td>0</td>\n",
       "      <td>0</td>\n",
       "      <td>6</td>\n",
       "    </tr>\n",
       "    <tr>\n",
       "      <td>1</td>\n",
       "      <td>0</td>\n",
       "      <td>22</td>\n",
       "      <td>0</td>\n",
       "      <td>0</td>\n",
       "      <td>0</td>\n",
       "      <td>0</td>\n",
       "      <td>1</td>\n",
       "      <td>0</td>\n",
       "      <td>0</td>\n",
       "      <td>0</td>\n",
       "      <td>...</td>\n",
       "      <td>0</td>\n",
       "      <td>0</td>\n",
       "      <td>0</td>\n",
       "      <td>0</td>\n",
       "      <td>0</td>\n",
       "      <td>1</td>\n",
       "      <td>0</td>\n",
       "      <td>0</td>\n",
       "      <td>0</td>\n",
       "      <td>6</td>\n",
       "    </tr>\n",
       "    <tr>\n",
       "      <td>2</td>\n",
       "      <td>0</td>\n",
       "      <td>18</td>\n",
       "      <td>0</td>\n",
       "      <td>0</td>\n",
       "      <td>0</td>\n",
       "      <td>1</td>\n",
       "      <td>0</td>\n",
       "      <td>0</td>\n",
       "      <td>0</td>\n",
       "      <td>0</td>\n",
       "      <td>...</td>\n",
       "      <td>0</td>\n",
       "      <td>0</td>\n",
       "      <td>0</td>\n",
       "      <td>0</td>\n",
       "      <td>0</td>\n",
       "      <td>1</td>\n",
       "      <td>0</td>\n",
       "      <td>0</td>\n",
       "      <td>0</td>\n",
       "      <td>6</td>\n",
       "    </tr>\n",
       "    <tr>\n",
       "      <td>3</td>\n",
       "      <td>1</td>\n",
       "      <td>18</td>\n",
       "      <td>0</td>\n",
       "      <td>0</td>\n",
       "      <td>0</td>\n",
       "      <td>0</td>\n",
       "      <td>1</td>\n",
       "      <td>0</td>\n",
       "      <td>0</td>\n",
       "      <td>0</td>\n",
       "      <td>...</td>\n",
       "      <td>0</td>\n",
       "      <td>0</td>\n",
       "      <td>0</td>\n",
       "      <td>0</td>\n",
       "      <td>1</td>\n",
       "      <td>0</td>\n",
       "      <td>0</td>\n",
       "      <td>0</td>\n",
       "      <td>0</td>\n",
       "      <td>6</td>\n",
       "    </tr>\n",
       "    <tr>\n",
       "      <td>4</td>\n",
       "      <td>0</td>\n",
       "      <td>19</td>\n",
       "      <td>0</td>\n",
       "      <td>0</td>\n",
       "      <td>0</td>\n",
       "      <td>0</td>\n",
       "      <td>1</td>\n",
       "      <td>0</td>\n",
       "      <td>0</td>\n",
       "      <td>0</td>\n",
       "      <td>...</td>\n",
       "      <td>0</td>\n",
       "      <td>0</td>\n",
       "      <td>0</td>\n",
       "      <td>0</td>\n",
       "      <td>1</td>\n",
       "      <td>0</td>\n",
       "      <td>0</td>\n",
       "      <td>0</td>\n",
       "      <td>0</td>\n",
       "      <td>6</td>\n",
       "    </tr>\n",
       "  </tbody>\n",
       "</table>\n",
       "<p>5 rows × 206 columns</p>\n",
       "</div>"
      ],
      "text/plain": [
       "  Gender  Age  d 5100-0  d 5100-1  d 5100-2  d 5100-3  d 5100-4  d 5100-8  \\\n",
       "0      0   18         0         0         0         0         1         0   \n",
       "1      0   22         0         0         0         0         1         0   \n",
       "2      0   18         0         0         0         1         0         0   \n",
       "3      1   18         0         0         0         0         1         0   \n",
       "4      0   19         0         0         0         0         1         0   \n",
       "\n",
       "   d 5100-9  d 5101-0  ...  d 57022-8  d 57022-9  d 571-0  d 571-1  d 571-2  \\\n",
       "0         0         0  ...          0          0        0        0        0   \n",
       "1         0         0  ...          0          0        0        0        0   \n",
       "2         0         0  ...          0          0        0        0        0   \n",
       "3         0         0  ...          0          0        0        0        1   \n",
       "4         0         0  ...          0          0        0        0        1   \n",
       "\n",
       "   d 571-3  d 571-4  d 571-8  d 571-9  Classes  \n",
       "0        0        1        0        0        6  \n",
       "1        1        0        0        0        6  \n",
       "2        1        0        0        0        6  \n",
       "3        0        0        0        0        6  \n",
       "4        0        0        0        0        6  \n",
       "\n",
       "[5 rows x 206 columns]"
      ]
     },
     "execution_count": 276,
     "metadata": {},
     "output_type": "execute_result"
    }
   ],
   "source": [
    "df['Gender'] = pd.Categorical(df['Gender'])\n",
    "df['Age'] = pd.to_numeric(df['Age'])\n",
    "df['Classes'] = df['Classes'].str.replace('class','')\n",
    "df['Classes'] = pd.Categorical(df['Classes'])\n",
    "\n",
    "df.head()"
   ]
  },
  {
   "cell_type": "code",
   "execution_count": 277,
   "metadata": {
    "scrolled": false
   },
   "outputs": [
    {
     "data": {
      "image/png": "[encoded data removed]",
      "text/plain": [
       "<Figure size 504x288 with 1 Axes>"
      ]
     },
     "metadata": {
      "needs_background": "light"
     },
     "output_type": "display_data"
    }
   ],
   "source": [
    "plt.figure(figsize=(7, 4))\n",
    "plt.title(\"Gender Distribution\")\n",
    "df['Gender'].value_counts().plot(kind='bar')\n",
    "plt.show()"
   ]
  },
  {
   "cell_type": "code",
   "execution_count": 278,
   "metadata": {},
   "outputs": [
    {
     "data": {
      "image/png": "[encoded data removed]",
      "text/plain": [
       "<Figure size 504x288 with 1 Axes>"
      ]
     },
     "metadata": {
      "needs_background": "light"
     },
     "output_type": "display_data"
    }
   ],
   "source": [
    "plt.figure(figsize=(7, 4))\n",
    "plt.title(\"Age Histogram\")\n",
    "df['Age'].hist(bins=10, alpha=0.9)\n",
    "plt.show()"
   ]
  },
  {
   "cell_type": "code",
   "execution_count": 279,
   "metadata": {},
   "outputs": [
    {
     "data": {
      "image/png": "[encoded data removed]",
      "text/plain": [
       "<Figure size 504x288 with 1 Axes>"
      ]
     },
     "metadata": {
      "needs_background": "light"
     },
     "output_type": "display_data"
    }
   ],
   "source": [
    "plt.figure(figsize=(7, 4))\n",
    "plt.title(\"Classes Distribution\")\n",
    "df['Classes'].value_counts().plot(kind='bar')\n",
    "plt.show()"
   ]
  },
  {
   "cell_type": "markdown",
   "metadata": {},
   "source": [
    "#### Data cleaning and exploratory analysis"
   ]
  },
  {
   "cell_type": "markdown",
   "metadata": {},
   "source": [
    "### Data is sparse - use truncated SVD to reduce features to 50"
   ]
  },
  {
   "cell_type": "code",
   "execution_count": 280,
   "metadata": {},
   "outputs": [
    {
     "name": "stdout",
     "output_type": "stream",
     "text": [
      "Original number of features: 206\n",
      "Reduced number of features: 50\n",
      "Total Variance 0.997368053105751\n"
     ]
    }
   ],
   "source": [
    "df_tsvd = df.copy()\n",
    "tsvd = TruncatedSVD(n_components=50,random_state=40)\n",
    "\n",
    "# Conduct TSVD on sparse matrix\n",
    "features_sparse_tsvd = tsvd.fit(df_tsvd).transform(df_tsvd)\n",
    "\n",
    "# Show results\n",
    "print(\"Original number of features:\", df_tsvd.shape[1])\n",
    "print(\"Reduced number of features:\", features_sparse_tsvd.shape[1]) \n",
    "print(\"Total Variance\", tsvd.explained_variance_ratio_.sum())"
   ]
  },
  {
   "cell_type": "code",
   "execution_count": 281,
   "metadata": {},
   "outputs": [
    {
     "data": {
      "text/plain": [
       "array([[ 1.93113588e+01, -4.51268865e-01, -2.74915018e+00, ...,\n",
       "         8.90968742e-02,  9.39022465e-02,  9.23550649e-02],\n",
       "       [ 2.30288934e+01,  9.93368680e-01, -3.28972418e+00, ...,\n",
       "         1.23769952e-01, -4.46719234e-03,  8.90660071e-02],\n",
       "       [ 1.93537932e+01,  3.70027247e-01, -1.88553497e+00, ...,\n",
       "        -1.40446880e-01,  9.41328941e-02, -8.85963915e-02],\n",
       "       ...,\n",
       "       [ 1.01298366e+01, -2.59149742e+00,  2.30757461e-01, ...,\n",
       "         1.36176958e-01,  9.41321467e-02, -9.39643489e-02],\n",
       "       [ 1.00475120e+01, -3.10275453e+00, -4.79408934e-01, ...,\n",
       "        -2.38746068e-02, -2.32965294e-02,  6.68204355e-02],\n",
       "       [ 1.55460081e+01, -1.25251141e+00, -1.54816562e+00, ...,\n",
       "         9.52800714e-03,  4.85089472e-02,  2.31360491e-02]])"
      ]
     },
     "execution_count": 281,
     "metadata": {},
     "output_type": "execute_result"
    }
   ],
   "source": [
    "features_sparse_tsvd"
   ]
  },
  {
   "cell_type": "code",
   "execution_count": 282,
   "metadata": {},
   "outputs": [
    {
     "name": "stdout",
     "output_type": "stream",
     "text": [
      "(70,)\n"
     ]
    }
   ],
   "source": [
    "X = features_sparse_tsvd\n",
    "y = df.loc[:, 'Classes'].astype(int)\n",
    "y = y.values\n",
    "print(y.shape)\n",
    "y=y.flatten()"
   ]
  },
  {
   "cell_type": "code",
   "execution_count": 309,
   "metadata": {},
   "outputs": [
    {
     "name": "stdout",
     "output_type": "stream",
     "text": [
      "               ARI  Completeness  Silhouette\n",
      "single    0.208778      0.634543   -0.042088\n",
      "complete  0.257458      0.453664    0.136276\n",
      "average   0.681840      0.703915    0.233113\n",
      "weighted  0.348448      0.550208    0.141142\n",
      "centroid  0.175903      0.625429    0.111320\n",
      "median    0.220518      0.575907    0.075075\n",
      "ward      0.729150      0.736630    0.230340\n"
     ]
    }
   ],
   "source": [
    "distances=['cityblock','euclidean']\n",
    "a=[]\n",
    "for dist in distances:\n",
    "    a.append(pdist(X, dist))\n",
    "linkage = [single, complete, average, weighted, centroid, median, ward]\n",
    "data = []\n",
    "for l in linkage:\n",
    "\n",
    "    clusters=(fcluster(l(a[1]), t=7, criterion='maxclust'))\n",
    "\n",
    "    data.append(({\n",
    "        'ARI': metrics.adjusted_rand_score(y, clusters),\n",
    "        'Completeness': metrics.completeness_score(y, clusters),\n",
    "        'Silhouette': metrics.silhouette_score(X, clusters)}))\n",
    "results = pd.DataFrame(data=data, columns=['ARI',\n",
    "'Completeness', 'Silhouette'],\n",
    "index=['single', 'complete', 'average', 'weighted', 'centroid', 'median', 'ward'])\n",
    "print(results)"
   ]
  },
  {
   "cell_type": "code",
   "execution_count": 290,
   "metadata": {},
   "outputs": [
    {
     "data": {
      "image/png": "[encoded data removed]",
      "text/plain": [
       "<Figure size 1080x1080 with 1 Axes>"
      ]
     },
     "metadata": {
      "needs_background": "light"
     },
     "output_type": "display_data"
    }
   ],
   "source": [
    "plt.figure(figsize=(15, 15))\n",
    "plt.title(\"Patient Dendograms\")\n",
    "dend = shc.dendrogram(shc.linkage(features_sparse_tsvd, method='ward'),orientation='top')\n",
    "plt.tick_params(axis=\"x\", labelsize=10,rotation='auto')"
   ]
  },
  {
   "cell_type": "code",
   "execution_count": 291,
   "metadata": {},
   "outputs": [],
   "source": [
    "cluster = AgglomerativeClustering(n_clusters=4, affinity='euclidean', linkage='ward')\n",
    "cluster_pred = cluster.fit_predict(features_sparse_tsvd)"
   ]
  },
  {
   "cell_type": "code",
   "execution_count": 293,
   "metadata": {},
   "outputs": [
    {
     "name": "stdout",
     "output_type": "stream",
     "text": [
      "[t-SNE] Computing 69 nearest neighbors...\n",
      "[t-SNE] Indexed 70 samples in 0.000s...\n",
      "[t-SNE] Computed neighbors for 70 samples in 0.001s...\n",
      "[t-SNE] Computed conditional probabilities for sample 70 / 70\n",
      "[t-SNE] Mean sigma: 4.580890\n",
      "[t-SNE] KL divergence after 250 iterations with early exaggeration: 46.781540\n",
      "[t-SNE] KL divergence after 300 iterations: 0.706195\n"
     ]
    },
    {
     "data": {
      "image/png": "[encoded data removed]",
      "text/plain": [
       "<Figure size 1152x720 with 1 Axes>"
      ]
     },
     "metadata": {
      "needs_background": "light"
     },
     "output_type": "display_data"
    }
   ],
   "source": [
    "features_sparse_tsvd_df = pd.DataFrame(features_sparse_tsvd)\n",
    "tsne = TSNE(n_components=2, verbose=1, perplexity=40, n_iter=300, random_state=100)\n",
    "tsne_results = tsne.fit_transform(features_sparse_tsvd_df)\n",
    "features_sparse_tsvd_df['tsne-2d-one'] = tsne_results[:,0]\n",
    "features_sparse_tsvd_df['tsne-2d-two'] = tsne_results[:,1]\n",
    "\n",
    "\n",
    "features_sparse_tsvd_df['cluster'] = cluster_pred\n",
    "plt.figure(figsize=(16,10))\n",
    "sns.scatterplot(\n",
    "    x=\"tsne-2d-one\", y=\"tsne-2d-two\",\n",
    "    hue=\"cluster\",\n",
    "    palette=sns.color_palette(\"hls\", 4),\n",
    "    data=features_sparse_tsvd_df,\n",
    "    legend=\"full\",\n",
    "    alpha=1,\n",
    "    s=100\n",
    ")\n",
    "for line in range(0,features_sparse_tsvd_df.shape[0]):\n",
    "     plt.text(features_sparse_tsvd_df[\"tsne-2d-one\"][line]+.3, features_sparse_tsvd_df[\"tsne-2d-two\"][line], \n",
    "              features_sparse_tsvd_df.index.values[line], horizontalalignment='left', \n",
    "              size='large', color='black')\n",
    "        "
   ]
  },
  {
   "cell_type": "code",
   "execution_count": 294,
   "metadata": {},
   "outputs": [
    {
     "data": {
      "text/html": [
       "<div>\n",
       "<style scoped>\n",
       "    .dataframe tbody tr th:only-of-type {\n",
       "        vertical-align: middle;\n",
       "    }\n",
       "\n",
       "    .dataframe tbody tr th {\n",
       "        vertical-align: top;\n",
       "    }\n",
       "\n",
       "    .dataframe thead th {\n",
       "        text-align: right;\n",
       "    }\n",
       "</style>\n",
       "<table border=\"1\" class=\"dataframe\">\n",
       "  <thead>\n",
       "    <tr style=\"text-align: right;\">\n",
       "      <th></th>\n",
       "      <th>Gender</th>\n",
       "      <th>Age</th>\n",
       "      <th>d 5100-0</th>\n",
       "      <th>d 5100-1</th>\n",
       "      <th>d 5100-2</th>\n",
       "      <th>d 5100-3</th>\n",
       "      <th>d 5100-4</th>\n",
       "      <th>d 5100-8</th>\n",
       "      <th>d 5100-9</th>\n",
       "      <th>d 5101-0</th>\n",
       "      <th>...</th>\n",
       "      <th>d 57022-9</th>\n",
       "      <th>d 571-0</th>\n",
       "      <th>d 571-1</th>\n",
       "      <th>d 571-2</th>\n",
       "      <th>d 571-3</th>\n",
       "      <th>d 571-4</th>\n",
       "      <th>d 571-8</th>\n",
       "      <th>d 571-9</th>\n",
       "      <th>Classes</th>\n",
       "      <th>Cluster</th>\n",
       "    </tr>\n",
       "  </thead>\n",
       "  <tbody>\n",
       "    <tr>\n",
       "      <td>0</td>\n",
       "      <td>0</td>\n",
       "      <td>18</td>\n",
       "      <td>0</td>\n",
       "      <td>0</td>\n",
       "      <td>0</td>\n",
       "      <td>0</td>\n",
       "      <td>1</td>\n",
       "      <td>0</td>\n",
       "      <td>0</td>\n",
       "      <td>0</td>\n",
       "      <td>...</td>\n",
       "      <td>0</td>\n",
       "      <td>0</td>\n",
       "      <td>0</td>\n",
       "      <td>0</td>\n",
       "      <td>0</td>\n",
       "      <td>1</td>\n",
       "      <td>0</td>\n",
       "      <td>0</td>\n",
       "      <td>6</td>\n",
       "      <td>1</td>\n",
       "    </tr>\n",
       "    <tr>\n",
       "      <td>1</td>\n",
       "      <td>0</td>\n",
       "      <td>22</td>\n",
       "      <td>0</td>\n",
       "      <td>0</td>\n",
       "      <td>0</td>\n",
       "      <td>0</td>\n",
       "      <td>1</td>\n",
       "      <td>0</td>\n",
       "      <td>0</td>\n",
       "      <td>0</td>\n",
       "      <td>...</td>\n",
       "      <td>0</td>\n",
       "      <td>0</td>\n",
       "      <td>0</td>\n",
       "      <td>0</td>\n",
       "      <td>1</td>\n",
       "      <td>0</td>\n",
       "      <td>0</td>\n",
       "      <td>0</td>\n",
       "      <td>6</td>\n",
       "      <td>1</td>\n",
       "    </tr>\n",
       "    <tr>\n",
       "      <td>2</td>\n",
       "      <td>0</td>\n",
       "      <td>18</td>\n",
       "      <td>0</td>\n",
       "      <td>0</td>\n",
       "      <td>0</td>\n",
       "      <td>1</td>\n",
       "      <td>0</td>\n",
       "      <td>0</td>\n",
       "      <td>0</td>\n",
       "      <td>0</td>\n",
       "      <td>...</td>\n",
       "      <td>0</td>\n",
       "      <td>0</td>\n",
       "      <td>0</td>\n",
       "      <td>0</td>\n",
       "      <td>1</td>\n",
       "      <td>0</td>\n",
       "      <td>0</td>\n",
       "      <td>0</td>\n",
       "      <td>6</td>\n",
       "      <td>1</td>\n",
       "    </tr>\n",
       "    <tr>\n",
       "      <td>3</td>\n",
       "      <td>1</td>\n",
       "      <td>18</td>\n",
       "      <td>0</td>\n",
       "      <td>0</td>\n",
       "      <td>0</td>\n",
       "      <td>0</td>\n",
       "      <td>1</td>\n",
       "      <td>0</td>\n",
       "      <td>0</td>\n",
       "      <td>0</td>\n",
       "      <td>...</td>\n",
       "      <td>0</td>\n",
       "      <td>0</td>\n",
       "      <td>0</td>\n",
       "      <td>1</td>\n",
       "      <td>0</td>\n",
       "      <td>0</td>\n",
       "      <td>0</td>\n",
       "      <td>0</td>\n",
       "      <td>6</td>\n",
       "      <td>1</td>\n",
       "    </tr>\n",
       "    <tr>\n",
       "      <td>4</td>\n",
       "      <td>0</td>\n",
       "      <td>19</td>\n",
       "      <td>0</td>\n",
       "      <td>0</td>\n",
       "      <td>0</td>\n",
       "      <td>0</td>\n",
       "      <td>1</td>\n",
       "      <td>0</td>\n",
       "      <td>0</td>\n",
       "      <td>0</td>\n",
       "      <td>...</td>\n",
       "      <td>0</td>\n",
       "      <td>0</td>\n",
       "      <td>0</td>\n",
       "      <td>1</td>\n",
       "      <td>0</td>\n",
       "      <td>0</td>\n",
       "      <td>0</td>\n",
       "      <td>0</td>\n",
       "      <td>6</td>\n",
       "      <td>1</td>\n",
       "    </tr>\n",
       "  </tbody>\n",
       "</table>\n",
       "<p>5 rows × 207 columns</p>\n",
       "</div>"
      ],
      "text/plain": [
       "  Gender  Age  d 5100-0  d 5100-1  d 5100-2  d 5100-3  d 5100-4  d 5100-8  \\\n",
       "0      0   18         0         0         0         0         1         0   \n",
       "1      0   22         0         0         0         0         1         0   \n",
       "2      0   18         0         0         0         1         0         0   \n",
       "3      1   18         0         0         0         0         1         0   \n",
       "4      0   19         0         0         0         0         1         0   \n",
       "\n",
       "   d 5100-9  d 5101-0  ...  d 57022-9  d 571-0  d 571-1  d 571-2  d 571-3  \\\n",
       "0         0         0  ...          0        0        0        0        0   \n",
       "1         0         0  ...          0        0        0        0        1   \n",
       "2         0         0  ...          0        0        0        0        1   \n",
       "3         0         0  ...          0        0        0        1        0   \n",
       "4         0         0  ...          0        0        0        1        0   \n",
       "\n",
       "   d 571-4  d 571-8  d 571-9  Classes  Cluster  \n",
       "0        1        0        0        6        1  \n",
       "1        0        0        0        6        1  \n",
       "2        0        0        0        6        1  \n",
       "3        0        0        0        6        1  \n",
       "4        0        0        0        6        1  \n",
       "\n",
       "[5 rows x 207 columns]"
      ]
     },
     "execution_count": 294,
     "metadata": {},
     "output_type": "execute_result"
    }
   ],
   "source": [
    "df_tsvd['Cluster'] = cluster_pred\n",
    "df_tsvd.head()"
   ]
  },
  {
   "cell_type": "code",
   "execution_count": 311,
   "metadata": {},
   "outputs": [
    {
     "name": "stdout",
     "output_type": "stream",
     "text": [
      "Average age per cluster\n",
      " Cluster\n",
      "0    12\n",
      "1    18\n",
      "2    11\n",
      "3     9\n",
      "Name: Age, dtype: int64\n",
      "\n",
      "Gender per cluster\n",
      " Cluster  Gender\n",
      "0        1         14\n",
      "         0         12\n",
      "1        0         10\n",
      "         1          4\n",
      "2        0         14\n",
      "         1          6\n",
      "3        0          5\n",
      "         1          5\n",
      "Name: Gender, dtype: int64\n"
     ]
    }
   ],
   "source": [
    "#Avg age per cluster\n",
    "print (\"Median age per cluster\\n\", df_tsvd.groupby('Cluster')['Age'].median())\n",
    "#Gender 1-male, 0-female\n",
    "print (\"\\nGender per cluster\\n\", df_tsvd.groupby('Cluster')['Gender'].value_counts())"
   ]
  },
  {
   "cell_type": "code",
   "execution_count": 296,
   "metadata": {},
   "outputs": [
    {
     "name": "stdout",
     "output_type": "stream",
     "text": [
      "\n",
      "Classes per cluster\n",
      " Cluster  Classes\n",
      "0        4          11\n",
      "         7           5\n",
      "         2           4\n",
      "         1           2\n",
      "         5           2\n",
      "         3           1\n",
      "         6           1\n",
      "1        6           9\n",
      "         2           3\n",
      "         4           1\n",
      "         7           1\n",
      "2        6          19\n",
      "         5           1\n",
      "3        7          10\n",
      "Name: Classes, dtype: int64\n"
     ]
    }
   ],
   "source": [
    "#Classes per cluster\n",
    "#( class1 = Caring for body parts problem; class2 = Toileting problem; class3 = Dressing problem; \n",
    "#class4 = Washing oneself and Caring for body parts and Dressing problem; \n",
    "#class5 = Washing oneself, Caring for body parts, Toileting, and Dressing problem; \n",
    "#class6 = Eating, Drinking, Washing oneself, Caring for body parts, toileting,Dressing, \n",
    "#Looking after one's health and Looking after one's safety problem; class7 = No Problem; )\n",
    "\n",
    "print (\"\\nClasses per cluster\\n\", df_tsvd.groupby('Cluster')['Classes'].value_counts())"
   ]
  },
  {
   "cell_type": "code",
   "execution_count": 360,
   "metadata": {},
   "outputs": [
    {
     "data": {
      "image/png": "[encoded data removed]",
      "text/plain": [
       "<Figure size 1152x720 with 1 Axes>"
      ]
     },
     "metadata": {
      "needs_background": "light"
     },
     "output_type": "display_data"
    }
   ],
   "source": [
    "plt.figure(figsize=(16,10))\n",
    "\n",
    "colors = { 0:'yellow', 1: 'r', 2: 'b', 3: 'g',}\n",
    "df_tsvd.groupby('Cluster').apply(lambda x: x.iloc[:,2:-2].sum().nlargest(10)).plot(kind='barh')\n",
    "                                                                                   \n",
    "plt.show()"
   ]
  },
  {
   "cell_type": "markdown",
   "metadata": {},
   "source": [
    "### Use the cluster to make classification"
   ]
  },
  {
   "cell_type": "code",
   "execution_count": 363,
   "metadata": {},
   "outputs": [
    {
     "data": {
      "image/png": "[encoded data removed]",
      "text/plain": [
       "<Figure size 432x288 with 1 Axes>"
      ]
     },
     "metadata": {
      "needs_background": "light"
     },
     "output_type": "display_data"
    }
   ],
   "source": [
    "plt.title('Distribution of Classes')\n",
    "df_tsvd.Cluster.value_counts().plot(kind='bar')\n",
    "plt.show()"
   ]
  },
  {
   "cell_type": "code",
   "execution_count": 298,
   "metadata": {},
   "outputs": [
    {
     "name": "stdout",
     "output_type": "stream",
     "text": [
      "Training Features Shape: (42, 50)\n",
      "Training Labels Shape: (42,)\n",
      "Testing Features Shape: (28, 50)\n",
      "Testing Labels Shape: (28,)\n"
     ]
    }
   ],
   "source": [
    "X,y = features_sparse_tsvd, df_tsvd['Cluster']\n",
    "\n",
    "X_train, X_test, y_train, y_test = train_test_split(X, y, test_size=0.4,random_state=40)\n",
    "\n",
    "print('Training Features Shape:', X_train.shape)\n",
    "print('Training Labels Shape:', y_train.shape)\n",
    "print('Testing Features Shape:', X_test.shape)\n",
    "print('Testing Labels Shape:', y_test.shape)"
   ]
  },
  {
   "cell_type": "code",
   "execution_count": 366,
   "metadata": {},
   "outputs": [],
   "source": [
    "clf=RandomForestClassifier(n_estimators=100, random_state=40)\n",
    "\n",
    "clf.fit(X_train,y_train)\n",
    "\n",
    "y_pred=clf.predict(X_test)"
   ]
  },
  {
   "cell_type": "code",
   "execution_count": 367,
   "metadata": {},
   "outputs": [
    {
     "name": "stdout",
     "output_type": "stream",
     "text": [
      "Accuracy: 0.8571428571428571\n"
     ]
    }
   ],
   "source": [
    "print(\"Accuracy:\",metrics.accuracy_score(y_test, y_pred))"
   ]
  },
  {
   "cell_type": "code",
   "execution_count": 368,
   "metadata": {},
   "outputs": [
    {
     "data": {
      "image/png": "[encoded data removed]",
      "text/plain": [
       "<Figure size 432x288 with 1 Axes>"
      ]
     },
     "metadata": {
      "needs_background": "light"
     },
     "output_type": "display_data"
    }
   ],
   "source": [
    "visualizer = ConfusionMatrix(clf)\n",
    "\n",
    "visualizer.fit(X_train, y_train) \n",
    "visualizer.score(X_test, y_test)\n",
    "g = visualizer.poof()"
   ]
  },
  {
   "cell_type": "code",
   "execution_count": 302,
   "metadata": {},
   "outputs": [
    {
     "data": {
      "image/png": "[encoded data removed]",
      "text/plain": [
       "<Figure size 432x288 with 2 Axes>"
      ]
     },
     "metadata": {
      "needs_background": "light"
     },
     "output_type": "display_data"
    }
   ],
   "source": [
    "visualizer = ClassificationReport(clf)\n",
    "\n",
    "visualizer.fit(X_train, y_train)  \n",
    "visualizer.score(X_test, y_test)  \n",
    "g = visualizer.poof()"
   ]
  },
  {
   "cell_type": "code",
   "execution_count": 303,
   "metadata": {},
   "outputs": [
    {
     "data": {
      "image/png": "[encoded data removed]",
      "text/plain": [
       "<Figure size 432x288 with 1 Axes>"
      ]
     },
     "metadata": {
      "needs_background": "light"
     },
     "output_type": "display_data"
    }
   ],
   "source": [
    "visualizer = ROCAUC(clf)\n",
    "\n",
    "visualizer.fit(X_train, y_train) \n",
    "visualizer.score(X_test, y_test)\n",
    "g = visualizer.poof()  "
   ]
  },
  {
   "cell_type": "code",
   "execution_count": 38,
   "metadata": {},
   "outputs": [],
   "source": [
    "df = pd.read_csv(\"../data/SCADI.csv\")\n",
    "\n",
    "df['Gender'] = pd.Categorical(df['Gender'])\n",
    "df['Age'] = pd.to_numeric(df['Age'])\n",
    "df['Classes'] = df['Classes'].str.replace('class','')\n",
    "df['Classes'] = pd.Categorical(df['Classes'])\n",
    "\n",
    "df_tsvd = df.copy()\n",
    "\n",
    "class ModelPlots:\n",
    "    def plot_dendogram(self):\n",
    "        \n",
    "        plt.figure(figsize=(12, 8))\n",
    "        plt.title(\"Patient Dendograms\")\n",
    "        dend = shc.dendrogram(shc.linkage(self.features_tsvd, method='ward'), orientation='top')\n",
    "#         plt.savefig('../docs/dendogram.png')\n",
    "        plt.show()\n",
    "    \n",
    "    def plot_classifier_metrics(self):\n",
    "\n",
    "        fig, axes = plt.subplots(2, 2, figsize=(12, 8))\n",
    "\n",
    "        visualgrid = [\n",
    "            ConfusionMatrix(self.clf, ax=axes[0][0]),\n",
    "            ClassificationReport(self.clf, ax=axes[0][1]),\n",
    "            ROCAUC(self.clf, ax=axes[1][0]),\n",
    "        ]\n",
    "        fig.delaxes(axes[1, 1])\n",
    "        for viz in visualgrid:\n",
    "            viz.fit(self.X_train, self.y_train)\n",
    "            viz.score(self.X_test, self.y_test)\n",
    "            viz.finalize()\n",
    "#         plt.savefig('../docs/metrics_classifier.png')\n",
    "        plt.show()\n",
    "    \n",
    "    def plot_clusters(self):\n",
    "        plt.figure(figsize=(12, 8))\n",
    "        sns.scatterplot(\n",
    "            x=\"tsne-2d-one\", y=\"tsne-2d-two\",\n",
    "            hue=\"cluster\",\n",
    "            palette=sns.color_palette(\"hls\", 4),\n",
    "            data=self.features_sparse_tsvd_df,\n",
    "            legend=\"full\",\n",
    "            alpha=1,\n",
    "            s=100\n",
    "        )\n",
    "        for line in range(0, self.features_sparse_tsvd_df.shape[0]):\n",
    "            plt.text(self.features_sparse_tsvd_df[\"tsne-2d-one\"][line] + .3, self.features_sparse_tsvd_df[\"tsne-2d-two\"][line],\n",
    "                     self.features_sparse_tsvd_df.index.values[line], horizontalalignment='left',\n",
    "                     size='large', color='black')\n",
    "\n",
    "#         plt.savefig('../docs/clusters.png')\n",
    "        plt.show()\n",
    "\n",
    "class ClusterClassify(ModelPlots):\n",
    "    \n",
    "    def __init__(self, features_tsvd = None, clf = None):\n",
    "        self.features_tsvd = None\n",
    "        self.clf = RandomForestClassifier(n_estimators=100, random_state=40)\n",
    "        \n",
    "    def get_feature_reduce(self, df):\n",
    "\n",
    "        tsvd = TruncatedSVD(n_components=50, random_state=40)\n",
    "\n",
    "        # Conduct TSVD on sparse matrix\n",
    "        features_sparse_tsvd = tsvd.fit(df).transform(df)\n",
    "\n",
    "        # Show results\n",
    "        print(\"Original number of features:\", df.shape[1])\n",
    "        print(\"Reduced number of features:\", features_sparse_tsvd.shape[1])\n",
    "        print(\"Total Variance captured:\", tsvd.explained_variance_ratio_.sum())\n",
    "\n",
    "        self.features_tsvd = features_sparse_tsvd\n",
    "    \n",
    "    def get_clusters(self):\n",
    "\n",
    "        cluster = AgglomerativeClustering(n_clusters=4, affinity='euclidean', linkage='ward')\n",
    "        cluster_pred = cluster.fit_predict(self.features_tsvd)\n",
    "\n",
    "        features_sparse_tsvd_df = pd.DataFrame(self.features_tsvd)\n",
    "        tsne = TSNE(n_components=2, verbose=1, perplexity=40, n_iter=300, random_state=100)\n",
    "        tsne_results = tsne.fit_transform(features_sparse_tsvd_df)\n",
    "        features_sparse_tsvd_df['tsne-2d-one'] = tsne_results[:,0]\n",
    "        features_sparse_tsvd_df['tsne-2d-two'] = tsne_results[:,1]\n",
    "\n",
    "        features_sparse_tsvd_df['cluster'] = cluster_pred\n",
    "        self.features_sparse_tsvd_df = features_sparse_tsvd_df\n",
    "        \n",
    "        \n",
    "        df['Cluster'] = cluster_pred\n",
    "\n",
    "        # Avg age per cluster\n",
    "        print(\"Average age per cluster\\n\", df.groupby('Cluster')['Age'].mean())\n",
    "        # Gender 1-male, 2-female\n",
    "        print(\"\\nGender per cluster\\n\", df.groupby('Cluster')['Gender'].value_counts())\n",
    "        print(\"\\nClasses per cluster\\n\", df.groupby('Cluster')['Classes'].value_counts())\n",
    "\n",
    "        self.df = df\n",
    "    \n",
    "    def get_test_train(self):\n",
    "\n",
    "        X, y = self.features_tsvd, self.df['Cluster']\n",
    "\n",
    "        X_train, X_test, y_train, y_test = train_test_split(X, y, test_size=0.4, random_state=40)\n",
    "        \n",
    "        print('Training Features Shape:', X_train.shape)\n",
    "        print('\\nTraining Labels Shape:', y_train.shape)\n",
    "        print('\\nTesting Features Shape:', X_test.shape)\n",
    "        print('\\nTesting Labels Shape:', y_test.shape)\n",
    "\n",
    "        self.X_train, self.y_train, self.X_test, self.y_test = X_train, y_train, X_test, y_test \n",
    "    \n",
    "    def get_model_accuracy(self):\n",
    "        \n",
    "        self.clf.fit(self.X_train, self.y_train)\n",
    "        y_pred = self.clf.predict(self.X_test)\n",
    "        print(\"\\nModel Accuracy %:\", np.round(metrics.accuracy_score(self.y_test, y_pred)*100,2))\n",
    "    \n",
    "    def run_phases(self):\n",
    "        phases = (self.plot_dendogram(), self.get_clusters(),\n",
    "                 self.plot_clusters(), self.get_test_train(),\n",
    "                 self.plot_classifier_metrics(), self.get_model_accuracy())\n",
    "        for phase in phases:\n",
    "            phase\n"
   ]
  },
  {
   "cell_type": "code",
   "execution_count": 62,
   "metadata": {
    "scrolled": false
   },
   "outputs": [],
   "source": [
    "# clf = ClusterClassify()\n",
    "# clf.get_feature_reduce(df_tsvd)\n",
    "# # clf.plot_dendogram()\n",
    "# clf.run_phases()"
   ]
  },
  {
   "cell_type": "code",
   "execution_count": null,
   "metadata": {},
   "outputs": [],
   "source": []
  }
 ],
 "metadata": {
  "kernelspec": {
   "display_name": "Python 3",
   "language": "python",
   "name": "python3"
  },
  "language_info": {
   "codemirror_mode": {
    "name": "ipython",
    "version": 3
   },
   "file_extension": ".py",
   "mimetype": "text/x-python",
   "name": "python",
   "nbconvert_exporter": "python",
   "pygments_lexer": "ipython3",
   "version": "3.7.1"
  }
 },
 "nbformat": 4,
 "nbformat_minor": 2
}
